{
 "cells": [
  {
   "cell_type": "code",
   "execution_count": 1,
   "metadata": {},
   "outputs": [
    {
     "ename": "ModuleNotFoundError",
     "evalue": "No module named 'scipy'",
     "output_type": "error",
     "traceback": [
      "\u001b[0;31m---------------------------------------------------------------------------\u001b[0m",
      "\u001b[0;31mModuleNotFoundError\u001b[0m                       Traceback (most recent call last)",
      "Input \u001b[0;32mIn [1]\u001b[0m, in \u001b[0;36m<cell line: 19>\u001b[0;34m()\u001b[0m\n\u001b[1;32m     17\u001b[0m \u001b[38;5;28;01mfrom\u001b[39;00m \u001b[38;5;21;01mmatplotlib\u001b[39;00m\u001b[38;5;21;01m.\u001b[39;00m\u001b[38;5;21;01mticker\u001b[39;00m \u001b[38;5;28;01mimport\u001b[39;00m AutoMinorLocator\n\u001b[1;32m     18\u001b[0m \u001b[38;5;66;03m# from tecplot.constant import *\u001b[39;00m\n\u001b[0;32m---> 19\u001b[0m \u001b[38;5;28;01mfrom\u001b[39;00m \u001b[38;5;21;01mscipy\u001b[39;00m\u001b[38;5;21;01m.\u001b[39;00m\u001b[38;5;21;01msignal\u001b[39;00m \u001b[38;5;28;01mimport\u001b[39;00m welch, periodogram, find_peaks, butter, filtfilt\n\u001b[1;32m     20\u001b[0m \u001b[38;5;28;01mfrom\u001b[39;00m \u001b[38;5;21;01mcopy\u001b[39;00m \u001b[38;5;28;01mimport\u001b[39;00m deepcopy\n\u001b[1;32m     22\u001b[0m \u001b[38;5;28;01mimport\u001b[39;00m \u001b[38;5;21;01mnicks_funcs\u001b[39;00m\n",
      "\u001b[0;31mModuleNotFoundError\u001b[0m: No module named 'scipy'"
     ]
    }
   ],
   "source": [
    "import os\n",
    "\n",
    "import cantera as ct\n",
    "import numpy as np\n",
    "import traceback\n",
    "import glob\n",
    "#import tecplot as tec\n",
    "\n",
    "\n",
    "\n",
    "import matplotlib as mpl\n",
    "import matplotlib.pyplot as plt\n",
    "import matplotlib.ticker as plticker\n",
    "import matplotlib.gridspec as gridspec\n",
    "import time\n",
    "\n",
    "from matplotlib.ticker import AutoMinorLocator\n",
    "# from tecplot.constant import *\n",
    "from scipy.signal import welch, periodogram, find_peaks, butter, filtfilt\n",
    "from copy import deepcopy\n",
    "\n",
    "import nicks_funcs\n",
    "\n",
    "plt.rcParams[\"font.family\"] = \"serif\"\n",
    "plt.rcParams[\"mathtext.fontset\"] = \"dejavuserif\"\n",
    "plt.rcParams['lines.linewidth'] = 4.0\n"
   ]
  },
  {
   "cell_type": "code",
   "execution_count": 3,
   "metadata": {},
   "outputs": [
    {
     "name": "stderr",
     "output_type": "stream",
     "text": [
      "/tmp/ipykernel_47314/2769521269.py:1: DeprecationWarning: XML_Node::build: \n",
      "The CTI and XML input file formats are deprecated and will be removed in\n",
      "Cantera 3.0. Use 'cti2yaml.py' or 'ctml2yaml.py' to convert CTI or XML input\n",
      "files to the YAML format. See https://cantera.org/tutorials/legacy2yaml.html\n",
      "for more information.\n",
      "  reactor=ct.Solution('./sahil.cti')\n"
     ]
    }
   ],
   "source": [
    "reactor=ct.Solution('./sahil.cti')"
   ]
  },
  {
   "cell_type": "code",
   "execution_count": 19,
   "metadata": {},
   "outputs": [
    {
     "name": "stdout",
     "output_type": "stream",
     "text": [
      "\n",
      "  gas:\n",
      "\n",
      "       temperature   300 K\n",
      "          pressure   1.0133e+05 Pa\n",
      "           density   1.2998 kg/m^3\n",
      "  mean mol. weight   31.998 kg/kmol\n",
      "   phase of matter   gas\n",
      "\n",
      "                          1 kg             1 kmol     \n",
      "                     ---------------   ---------------\n",
      "          enthalpy            1698.8             54359  J\n",
      "   internal energy            -76254         -2.44e+06  J\n",
      "           entropy              6417        2.0533e+05  J/K\n",
      "    Gibbs function       -1.9234e+06       -6.1545e+07  J\n",
      " heat capacity c_p            918.43             29388  J/K\n",
      " heat capacity c_v            658.59             21074  J/K\n",
      "\n",
      "                      mass frac. Y      mole frac. X     chem. pot. / RT\n",
      "                     ---------------   ---------------   ---------------\n",
      "                O2                 1                 1           -24.674\n",
      "     [   +5 minor]                 0                 0  \n",
      "\n"
     ]
    }
   ],
   "source": [
    "\n",
    "# reactor.X={'C12H26':1,'O2':12.5}\n",
    "reactor.X={'O2':12.5}\n",
    "reactor.TP= 300,101325\n",
    "reactor()\n"
   ]
  },
  {
   "cell_type": "code",
   "execution_count": 17,
   "metadata": {},
   "outputs": [
    {
     "name": "stdout",
     "output_type": "stream",
     "text": [
      "\n",
      "  gas:\n",
      "\n",
      "       temperature   300 K\n",
      "          pressure   1.0133e+05 Pa\n",
      "           density   1.2998 kg/m^3\n",
      "  mean mol. weight   31.998 kg/kmol\n",
      "   phase of matter   gas\n",
      "\n",
      "                          1 kg             1 kmol     \n",
      "                     ---------------   ---------------\n",
      "          enthalpy            1698.8             54359  J\n",
      "   internal energy            -76254         -2.44e+06  J\n",
      "           entropy              6417        2.0533e+05  J/K\n",
      "    Gibbs function       -1.9234e+06       -6.1545e+07  J\n",
      " heat capacity c_p            918.43             29388  J/K\n",
      " heat capacity c_v            658.59             21074  J/K\n",
      "\n",
      "                      mass frac. Y      mole frac. X     chem. pot. / RT\n",
      "                     ---------------   ---------------   ---------------\n",
      "                O2                 1                 1           -24.674\n",
      "     [   +5 minor]                 0                 0  \n",
      "\n"
     ]
    }
   ],
   "source": [
    "reactor.equilibrate(\"UV\")\n",
    "reactor()"
   ]
  },
  {
   "cell_type": "code",
   "execution_count": null,
   "metadata": {},
   "outputs": [],
   "source": []
  }
 ],
 "metadata": {
  "kernelspec": {
   "display_name": "Python 3 (ipykernel)",
   "language": "python",
   "name": "python3"
  },
  "language_info": {
   "codemirror_mode": {
    "name": "ipython",
    "version": 3
   },
   "file_extension": ".py",
   "mimetype": "text/x-python",
   "name": "python",
   "nbconvert_exporter": "python",
   "pygments_lexer": "ipython3",
   "version": "3.10.6"
  },
  "vscode": {
   "interpreter": {
    "hash": "7bb84276cade4b44b83a6f05ca27e44eb21c34d5cdf42c7e55c2010933268c43"
   }
  }
 },
 "nbformat": 4,
 "nbformat_minor": 2
}
