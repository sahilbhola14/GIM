{
 "cells": [
  {
   "cell_type": "code",
   "execution_count": 1,
   "metadata": {},
   "outputs": [
    {
     "ename": "ModuleNotFoundError",
     "evalue": "No module named 'tecplot'",
     "output_type": "error",
     "traceback": [
      "\u001b[0;31m---------------------------------------------------------------------------\u001b[0m",
      "\u001b[0;31mModuleNotFoundError\u001b[0m                       Traceback (most recent call last)",
      "Input \u001b[0;32mIn [1]\u001b[0m, in \u001b[0;36m<cell line: 18>\u001b[0;34m()\u001b[0m\n\u001b[1;32m     15\u001b[0m \u001b[38;5;28;01mimport\u001b[39;00m \u001b[38;5;21;01mtime\u001b[39;00m\n\u001b[1;32m     17\u001b[0m \u001b[38;5;28;01mfrom\u001b[39;00m \u001b[38;5;21;01mmatplotlib\u001b[39;00m\u001b[38;5;21;01m.\u001b[39;00m\u001b[38;5;21;01mticker\u001b[39;00m \u001b[38;5;28;01mimport\u001b[39;00m AutoMinorLocator\n\u001b[0;32m---> 18\u001b[0m \u001b[38;5;28;01mfrom\u001b[39;00m \u001b[38;5;21;01mtecplot\u001b[39;00m\u001b[38;5;21;01m.\u001b[39;00m\u001b[38;5;21;01mconstant\u001b[39;00m \u001b[38;5;28;01mimport\u001b[39;00m \u001b[38;5;241m*\u001b[39m\n\u001b[1;32m     19\u001b[0m \u001b[38;5;28;01mfrom\u001b[39;00m \u001b[38;5;21;01mscipy\u001b[39;00m\u001b[38;5;21;01m.\u001b[39;00m\u001b[38;5;21;01msignal\u001b[39;00m \u001b[38;5;28;01mimport\u001b[39;00m welch, periodogram, find_peaks, butter, filtfilt\n\u001b[1;32m     20\u001b[0m \u001b[38;5;28;01mfrom\u001b[39;00m \u001b[38;5;21;01mcopy\u001b[39;00m \u001b[38;5;28;01mimport\u001b[39;00m deepcopy\n",
      "\u001b[0;31mModuleNotFoundError\u001b[0m: No module named 'tecplot'"
     ]
    }
   ],
   "source": [
    "import os\n",
    "\n",
    "import cantera as ct\n",
    "import numpy as np\n",
    "import traceback\n",
    "import glob\n",
    "#import tecplot as tec\n",
    "\n",
    "\n",
    "\n",
    "import matplotlib as mpl\n",
    "import matplotlib.pyplot as plt\n",
    "import matplotlib.ticker as plticker\n",
    "import matplotlib.gridspec as gridspec\n",
    "import time\n",
    "\n",
    "from matplotlib.ticker import AutoMinorLocator\n",
    "from tecplot.constant import *\n",
    "from scipy.signal import welch, periodogram, find_peaks, butter, filtfilt\n",
    "from copy import deepcopy\n",
    "\n",
    "import nicks_funcs\n",
    "\n",
    "plt.rcParams[\"font.family\"] = \"serif\"\n",
    "plt.rcParams[\"mathtext.fontset\"] = \"dejavuserif\"\n",
    "plt.rcParams['lines.linewidth'] = 4.0\n"
   ]
  },
  {
   "cell_type": "code",
   "execution_count": 22,
   "metadata": {},
   "outputs": [],
   "source": [
    "reactor=ct.Solution('./sahil.cti')"
   ]
  },
  {
   "cell_type": "code",
   "execution_count": 23,
   "metadata": {},
   "outputs": [
    {
     "name": "stdout",
     "output_type": "stream",
     "text": [
      "\n",
      "  gas:\n",
      "\n",
      "       temperature   300 K\n",
      "          pressure   4.0856e+05 Pa\n",
      "           density   6.9195 kg/m^3\n",
      "  mean mol. weight   42.246 kg/kmol\n",
      "   phase of matter   gas\n",
      "\n",
      "                          1 kg             1 kmol     \n",
      "                     ---------------   ---------------\n",
      "          enthalpy       -5.0929e+05       -2.1515e+07  J\n",
      "   internal energy       -5.6833e+05        -2.401e+07  J\n",
      "           entropy            5376.2        2.2712e+05  J/K\n",
      "    Gibbs function       -2.1222e+06       -8.9652e+07  J\n",
      " heat capacity c_p            1137.6             48060  J/K\n",
      " heat capacity c_v            940.81             39745  J/K\n",
      "\n",
      "                      mass frac. Y      mole frac. X     chem. pot. / RT\n",
      "                     ---------------   ---------------   ---------------\n",
      "            C12H26           0.29868          0.074074           -193.26\n",
      "                O2           0.70132           0.92593           -23.356\n",
      "     [   +4 minor]                 0                 0  \n",
      "\n"
     ]
    }
   ],
   "source": [
    "reactor.TP= 300,101325\n",
    "reactor.X={'C12H26':1,'O2':12.5}\n",
    "reactor()\n"
   ]
  },
  {
   "cell_type": "code",
   "execution_count": 24,
   "metadata": {},
   "outputs": [
    {
     "name": "stdout",
     "output_type": "stream",
     "text": [
      "\n",
      "  gas:\n",
      "\n",
      "       temperature   4155.1 K\n",
      "          pressure   4.0856e+05 Pa\n",
      "           density   0.26978 kg/m^3\n",
      "  mean mol. weight   22.813 kg/kmol\n",
      "   phase of matter   gas\n",
      "\n",
      "                          1 kg             1 kmol     \n",
      "                     ---------------   ---------------\n",
      "          enthalpy       -5.0929e+05       -1.1618e+07  J\n",
      "   internal energy       -2.0237e+06       -4.6166e+07  J\n",
      "           entropy             12734        2.9049e+05  J/K\n",
      "    Gibbs function       -5.3419e+07       -1.2186e+09  J\n",
      " heat capacity c_p            2165.9             49411  J/K\n",
      " heat capacity c_v            1801.5             41096  J/K\n",
      "\n",
      "                      mass frac. Y      mole frac. X     chem. pot. / RT\n",
      "                     ---------------   ---------------   ---------------\n",
      "            C12H26        4.1121e-07        5.5071e-08           -215.34\n",
      "                O2        1.2994e-10        9.2641e-11            -53.32\n",
      "                CO           0.58936              0.48           -32.955\n",
      "               H2O           0.41064              0.52           -37.414\n",
      "               CO2        2.6557e-06        1.3766e-06           -59.615\n",
      "     [   +1 minor]                 0                 0  \n",
      "\n"
     ]
    }
   ],
   "source": [
    "reactor.equilibrate(\"HP\")\n",
    "reactor()"
   ]
  }
 ],
 "metadata": {
  "kernelspec": {
   "display_name": "Python 3 (ipykernel)",
   "language": "python",
   "name": "python3"
  },
  "language_info": {
   "codemirror_mode": {
    "name": "ipython",
    "version": 3
   },
   "file_extension": ".py",
   "mimetype": "text/x-python",
   "name": "python",
   "nbconvert_exporter": "python",
   "pygments_lexer": "ipython3",
   "version": "3.10.6"
  },
  "vscode": {
   "interpreter": {
    "hash": "7bb84276cade4b44b83a6f05ca27e44eb21c34d5cdf42c7e55c2010933268c43"
   }
  }
 },
 "nbformat": 4,
 "nbformat_minor": 2
}
